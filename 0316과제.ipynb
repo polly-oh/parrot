{
  "nbformat": 4,
  "nbformat_minor": 0,
  "metadata": {
    "colab": {
      "name": "0316과제.ipynb",
      "provenance": [],
      "collapsed_sections": [],
      "include_colab_link": true
    },
    "kernelspec": {
      "name": "python3",
      "display_name": "Python 3"
    },
    "language_info": {
      "name": "python"
    }
  },
  "cells": [
    {
      "cell_type": "markdown",
      "metadata": {
        "id": "view-in-github",
        "colab_type": "text"
      },
      "source": [
        "<a href=\"https://colab.research.google.com/github/polly-oh/parrot/blob/main/0316%EA%B3%BC%EC%A0%9C.ipynb\" target=\"_parent\"><img src=\"https://colab.research.google.com/assets/colab-badge.svg\" alt=\"Open In Colab\"/></a>"
      ]
    },
    {
      "cell_type": "code",
      "source": [
        "import numpy as np"
      ],
      "metadata": {
        "id": "Pgp78b92MKSk"
      },
      "execution_count": 137,
      "outputs": []
    },
    {
      "cell_type": "code",
      "execution_count": 138,
      "metadata": {
        "id": "5GrXvK4FM4Yv"
      },
      "outputs": [],
      "source": [
        " #1. data type이 정수형인 3 by 3 단위행렬 A를 만드시오"
      ]
    },
    {
      "cell_type": "code",
      "source": [
        "A= np.eye(3, dtype='int')\n",
        "A"
      ],
      "metadata": {
        "id": "xmBRn_aQM7N5",
        "colab": {
          "base_uri": "https://localhost:8080/"
        },
        "outputId": "c3c22f83-2f05-4b1d-f629-436b9b1512f2"
      },
      "execution_count": 139,
      "outputs": [
        {
          "output_type": "execute_result",
          "data": {
            "text/plain": [
              "array([[1, 0, 0],\n",
              "       [0, 1, 0],\n",
              "       [0, 0, 1]])"
            ]
          },
          "metadata": {},
          "execution_count": 139
        }
      ]
    },
    {
      "cell_type": "code",
      "source": [
        "#2. A의 원소 중 1을 모두 10으로 바꾸어서 A를 출력하시오"
      ],
      "metadata": {
        "id": "AiwSa8fuM-uQ"
      },
      "execution_count": 140,
      "outputs": []
    },
    {
      "cell_type": "code",
      "source": [
        "A[A==1]=10\n",
        "A"
      ],
      "metadata": {
        "id": "0VAMPvXONAAG",
        "colab": {
          "base_uri": "https://localhost:8080/"
        },
        "outputId": "c4594685-b0ba-433b-c8ce-cbc23b9d4648"
      },
      "execution_count": 141,
      "outputs": [
        {
          "output_type": "execute_result",
          "data": {
            "text/plain": [
              "array([[10,  0,  0],\n",
              "       [ 0, 10,  0],\n",
              "       [ 0,  0, 10]])"
            ]
          },
          "metadata": {},
          "execution_count": 141
        }
      ]
    },
    {
      "cell_type": "code",
      "source": [
        "#3. 1부터 20까지(정수) 범위 내에서 짝수만을 나열한 ndarray B를 만드시오"
      ],
      "metadata": {
        "id": "A_bKZMQZNBHe"
      },
      "execution_count": 142,
      "outputs": []
    },
    {
      "cell_type": "code",
      "source": [
        "B=np.arange(2,21,2, dtype='int')\n",
        "B"
      ],
      "metadata": {
        "id": "34RyebZCNCcq",
        "colab": {
          "base_uri": "https://localhost:8080/"
        },
        "outputId": "7a7dcd5a-6cde-4899-a03d-8d12f98ea733"
      },
      "execution_count": 143,
      "outputs": [
        {
          "output_type": "execute_result",
          "data": {
            "text/plain": [
              "array([ 2,  4,  6,  8, 10, 12, 14, 16, 18, 20])"
            ]
          },
          "metadata": {},
          "execution_count": 143
        }
      ]
    },
    {
      "cell_type": "code",
      "source": [
        "#4. ndarray B를 2 by 5 행렬로 바꾸고 마지막 열의 원소에만 나누기 2를 연산하여 다시 B를 출력하시오"
      ],
      "metadata": {
        "id": "sID9_p9ZNDAp"
      },
      "execution_count": 144,
      "outputs": []
    },
    {
      "cell_type": "code",
      "source": [
        "B= B.reshape(2,5)\n",
        "B[1:]=B[1:]/2\n",
        "B"
      ],
      "metadata": {
        "id": "w8B6H0oqNFiE",
        "colab": {
          "base_uri": "https://localhost:8080/"
        },
        "outputId": "92be7db3-a505-4a10-8711-9e906955e37e"
      },
      "execution_count": 145,
      "outputs": [
        {
          "output_type": "execute_result",
          "data": {
            "text/plain": [
              "array([[ 2,  4,  6,  8, 10],\n",
              "       [ 6,  7,  8,  9, 10]])"
            ]
          },
          "metadata": {},
          "execution_count": 145
        }
      ]
    },
    {
      "cell_type": "code",
      "source": [
        "#5. 다음 결과를 출력하도록 코드를 작성하시오"
      ],
      "metadata": {
        "id": "BzlkcQaRNGCs"
      },
      "execution_count": 146,
      "outputs": []
    },
    {
      "cell_type": "code",
      "source": [
        "#(array([1., 4., 7.]), 3.0)"
      ],
      "metadata": {
        "id": "vHs1mq9fNH0d"
      },
      "execution_count": 147,
      "outputs": []
    },
    {
      "cell_type": "code",
      "source": [
        " np.linspace(1, 7., num=3, retstep=True) "
      ],
      "metadata": {
        "id": "ArNUOcaoNJYd",
        "colab": {
          "base_uri": "https://localhost:8080/"
        },
        "outputId": "d1a60987-a869-4ce5-eb8f-e84b8fc92a7a"
      },
      "execution_count": 148,
      "outputs": [
        {
          "output_type": "execute_result",
          "data": {
            "text/plain": [
              "(array([1., 4., 7.]), 3.0)"
            ]
          },
          "metadata": {},
          "execution_count": 148
        }
      ]
    },
    {
      "cell_type": "code",
      "source": [
        "#6. 0부터 9까지의 정수를 랜덤으로 나열한 ndarray C를 출력하시오"
      ],
      "metadata": {
        "id": "x57qyzduNMur"
      },
      "execution_count": 149,
      "outputs": []
    },
    {
      "cell_type": "code",
      "source": [
        "C=np.random.randint(0,10,7)\n",
        "C"
      ],
      "metadata": {
        "id": "J4qEfmtTNPYq",
        "colab": {
          "base_uri": "https://localhost:8080/"
        },
        "outputId": "29e83712-1eb8-4494-8414-42f0840a745c"
      },
      "execution_count": 150,
      "outputs": [
        {
          "output_type": "execute_result",
          "data": {
            "text/plain": [
              "array([5, 6, 9, 8, 9, 2, 4])"
            ]
          },
          "metadata": {},
          "execution_count": 150
        }
      ]
    },
    {
      "cell_type": "code",
      "source": [
        "#7. 1부터 45까지의 정수 중 6개를 random sampling하여 ndarray로 출력하시오"
      ],
      "metadata": {
        "id": "C3icfLpNNQIV"
      },
      "execution_count": 151,
      "outputs": []
    },
    {
      "cell_type": "code",
      "source": [
        "np.random.randint(1,46,6)"
      ],
      "metadata": {
        "id": "4rPcDZlxNRKu",
        "colab": {
          "base_uri": "https://localhost:8080/"
        },
        "outputId": "9bcb962e-1c93-49a4-ac22-9ff73be0ac1a"
      },
      "execution_count": 152,
      "outputs": [
        {
          "output_type": "execute_result",
          "data": {
            "text/plain": [
              "array([40, 45,  8, 30, 41, 12])"
            ]
          },
          "metadata": {},
          "execution_count": 152
        }
      ]
    },
    {
      "cell_type": "code",
      "source": [
        "#8-1. 표준정규분포 하에서 3 by 3 난수를 발생시켜 ndarray a로 저장\n",
        "#8-2. 각 열의 최댓값 행vector를 변수 b에, 각 열의 최솟값 행vector 변수 c에 저장\n",
        "#8-3. b와 c의 차원을 알맞게 변환시켜, ndarray a에 b와 c를 추가시킨 ndarray aa를 출력하시오"
      ],
      "metadata": {
        "id": "0Ht6zfgWNSMD"
      },
      "execution_count": 153,
      "outputs": []
    },
    {
      "cell_type": "code",
      "source": [
        "a=np.random.randn(3,3)\n",
        "b=a.max(0)\n",
        "c=a.min(0)\n",
        "aa=np.append(np.append(a,b),c).reshape(5,3)\n",
        "aa"
      ],
      "metadata": {
        "id": "hc59atImNUyY",
        "colab": {
          "base_uri": "https://localhost:8080/"
        },
        "outputId": "2173e950-c735-4507-fba2-d5d8480a3064"
      },
      "execution_count": 154,
      "outputs": [
        {
          "output_type": "execute_result",
          "data": {
            "text/plain": [
              "array([[-0.45213872, -1.25384108, -0.0989065 ],\n",
              "       [ 1.30048582,  1.14130288,  0.90868711],\n",
              "       [-0.55255217,  0.47658155,  1.14752717],\n",
              "       [ 1.30048582,  1.14130288,  1.14752717],\n",
              "       [-0.55255217, -1.25384108, -0.0989065 ]])"
            ]
          },
          "metadata": {},
          "execution_count": 154
        }
      ]
    },
    {
      "cell_type": "code",
      "source": [
        "#8-4. andarry aa를 행별 내림차순하여 나타내시오"
      ],
      "metadata": {
        "id": "Xtl6bpWMNW0O"
      },
      "execution_count": 155,
      "outputs": []
    },
    {
      "cell_type": "code",
      "source": [
        "aa=np.sort(aa)\n",
        "aa[:,::-1]"
      ],
      "metadata": {
        "id": "dNj4g_n4NXLn",
        "colab": {
          "base_uri": "https://localhost:8080/"
        },
        "outputId": "65a58efd-dea6-48b6-e378-087102631fd6"
      },
      "execution_count": 156,
      "outputs": [
        {
          "output_type": "execute_result",
          "data": {
            "text/plain": [
              "array([[-0.0989065 , -0.45213872, -1.25384108],\n",
              "       [ 1.30048582,  1.14130288,  0.90868711],\n",
              "       [ 1.14752717,  0.47658155, -0.55255217],\n",
              "       [ 1.30048582,  1.14752717,  1.14130288],\n",
              "       [-0.0989065 , -0.55255217, -1.25384108]])"
            ]
          },
          "metadata": {},
          "execution_count": 156
        }
      ]
    },
    {
      "cell_type": "code",
      "source": [
        "#8-5. ndarray aa를 파일명 'aa.txt', 소수점 이하 6자리까지, 구분자를 tap 문자로 하여 파일로 저장\n",
        "#8-6. 'aa.txt'를 출력하시오"
      ],
      "metadata": {
        "id": "NhwmxCUyNX-h"
      },
      "execution_count": 157,
      "outputs": []
    },
    {
      "cell_type": "code",
      "source": [
        "np.savetxt('aa.txt', aa, fmt = '%.6f', delimiter='\\t')\n",
        "np.loadtxt('aa.txt', dtype='float', delimiter = '\\t')"
      ],
      "metadata": {
        "id": "zFogdk9fNbw8",
        "colab": {
          "base_uri": "https://localhost:8080/"
        },
        "outputId": "da5a18d8-3c98-4715-867a-6e91aa75bfbd"
      },
      "execution_count": 158,
      "outputs": [
        {
          "output_type": "execute_result",
          "data": {
            "text/plain": [
              "array([[-1.253841, -0.452139, -0.098907],\n",
              "       [ 0.908687,  1.141303,  1.300486],\n",
              "       [-0.552552,  0.476582,  1.147527],\n",
              "       [ 1.141303,  1.147527,  1.300486],\n",
              "       [-1.253841, -0.552552, -0.098907]])"
            ]
          },
          "metadata": {},
          "execution_count": 158
        }
      ]
    },
    {
      "cell_type": "code",
      "source": [
        "#9-1. 1부터 9까지의 정수를 차례로 나열한 3 by 3 행렬 X를 만드시오\n",
        "#9-2. 열 index만큼 각 열을 반복하여 3 by 6 행렬로 변형하시오 (첫 번째 열 한 번 반복, ...)\n",
        "#9-3. 각 행별 mean값을 구한 행vector를 변수 y, 각 행별 std값을 구한 행vector를 변수 z에 저장하시오"
      ],
      "metadata": {
        "id": "2OuZ7bOmNdi_"
      },
      "execution_count": 159,
      "outputs": []
    },
    {
      "cell_type": "code",
      "source": [
        "X=np.arange(1,10).reshape(3,3)\n",
        "X=X.repeat([1,2,3],axis=1)\n",
        "y=X.mean(1)\n",
        "z=X.std(1)"
      ],
      "metadata": {
        "id": "04ehAY9LNeHV"
      },
      "execution_count": 160,
      "outputs": []
    },
    {
      "cell_type": "code",
      "source": [
        "#9-4. y의 원소값이 첫번째 열, z의 원소값이 두 번째 열이 되도록 3 by 2 행렬 Y로 저장하고 출력하시오"
      ],
      "metadata": {
        "id": "cKn5G18jNfnw"
      },
      "execution_count": 161,
      "outputs": []
    },
    {
      "cell_type": "code",
      "source": [
        "Y=np.append(y,z).reshape(2,3).T\n",
        "Y"
      ],
      "metadata": {
        "id": "uIssdVEvNf3T",
        "colab": {
          "base_uri": "https://localhost:8080/"
        },
        "outputId": "e2baf1d8-fb01-49e9-9d1a-eee68a409bfa"
      },
      "execution_count": 162,
      "outputs": [
        {
          "output_type": "execute_result",
          "data": {
            "text/plain": [
              "array([[2.33333333, 0.74535599],\n",
              "       [5.33333333, 0.74535599],\n",
              "       [8.33333333, 0.74535599]])"
            ]
          },
          "metadata": {},
          "execution_count": 162
        }
      ]
    },
    {
      "cell_type": "code",
      "source": [
        "#9-5. tile 함수를 활용해보세요 (ndarray Y 사용, shape은 각자 재량)"
      ],
      "metadata": {
        "id": "FCRLIpDzNhbs"
      },
      "execution_count": 163,
      "outputs": []
    },
    {
      "cell_type": "code",
      "source": [
        "#np.tile(Y,2)\n",
        "#np.tile(Y,4)\n",
        "#np.tile(Y,(1,2))\n",
        "#np.tile(Y,(2,1))\n",
        "np.tile(Y, (2,2,2))"
      ],
      "metadata": {
        "id": "Tzli49lvNiC-",
        "colab": {
          "base_uri": "https://localhost:8080/"
        },
        "outputId": "54d5b65c-afdd-4e19-8c8a-ce97d7b0fbbd"
      },
      "execution_count": 164,
      "outputs": [
        {
          "output_type": "execute_result",
          "data": {
            "text/plain": [
              "array([[[2.33333333, 0.74535599, 2.33333333, 0.74535599],\n",
              "        [5.33333333, 0.74535599, 5.33333333, 0.74535599],\n",
              "        [8.33333333, 0.74535599, 8.33333333, 0.74535599],\n",
              "        [2.33333333, 0.74535599, 2.33333333, 0.74535599],\n",
              "        [5.33333333, 0.74535599, 5.33333333, 0.74535599],\n",
              "        [8.33333333, 0.74535599, 8.33333333, 0.74535599]],\n",
              "\n",
              "       [[2.33333333, 0.74535599, 2.33333333, 0.74535599],\n",
              "        [5.33333333, 0.74535599, 5.33333333, 0.74535599],\n",
              "        [8.33333333, 0.74535599, 8.33333333, 0.74535599],\n",
              "        [2.33333333, 0.74535599, 2.33333333, 0.74535599],\n",
              "        [5.33333333, 0.74535599, 5.33333333, 0.74535599],\n",
              "        [8.33333333, 0.74535599, 8.33333333, 0.74535599]]])"
            ]
          },
          "metadata": {},
          "execution_count": 164
        }
      ]
    },
    {
      "cell_type": "code",
      "source": [
        "# 수고 많으셨습니다!!"
      ],
      "metadata": {
        "id": "f0NM_09CNuZU"
      },
      "execution_count": 165,
      "outputs": []
    }
  ]
}