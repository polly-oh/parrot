{
  "nbformat": 4,
  "nbformat_minor": 0,
  "metadata": {
    "colab": {
      "name": "parrot_OT_hw1",
      "provenance": [],
      "collapsed_sections": [],
      "authorship_tag": "ABX9TyO6bI7RbAC9JEBQy8UowBWk",
      "include_colab_link": true
    },
    "kernelspec": {
      "name": "python3",
      "display_name": "Python 3"
    },
    "language_info": {
      "name": "python"
    }
  },
  "cells": [
    {
      "cell_type": "markdown",
      "metadata": {
        "id": "view-in-github",
        "colab_type": "text"
      },
      "source": [
        "<a href=\"https://colab.research.google.com/github/polly-oh/parrot/blob/main/parrot_OT_hw1.ipynb\" target=\"_parent\"><img src=\"https://colab.research.google.com/assets/colab-badge.svg\" alt=\"Open In Colab\"/></a>"
      ]
    },
    {
      "cell_type": "markdown",
      "source": [
        "## IF문 복습문제"
      ],
      "metadata": {
        "id": "KpddpwaiXhIr"
      }
    },
    {
      "cell_type": "code",
      "execution_count": 13,
      "metadata": {
        "colab": {
          "base_uri": "https://localhost:8080/"
        },
        "id": "HcRqQdwnTe9n",
        "outputId": "11789cc7-9b3b-444a-f9eb-fa879ae9c659"
      },
      "outputs": [
        {
          "output_type": "stream",
          "name": "stdout",
          "text": [
            "6 2 5\n",
            "600\n"
          ]
        }
      ],
      "source": [
        "n1, n2, n3 =map(int, input().split())\n",
        "\n",
        "if n1==n2==n3:\n",
        "  print(10000+n1*1000)\n",
        "elif n1==n2:\n",
        "  print(1000+ n1*100)\n",
        "elif n1==n3:\n",
        "  print(1000+ n1*100)\n",
        "elif n2==n3:\n",
        "  print(1000+n2*100)\n",
        "else:\n",
        "  print(max(n1,n2,n3)*100)"
      ]
    },
    {
      "cell_type": "markdown",
      "source": [
        "## for/while 복습문제"
      ],
      "metadata": {
        "id": "oYEcMcUeXscy"
      }
    },
    {
      "cell_type": "code",
      "source": [
        "result = []\n",
        "\n",
        "while True:\n",
        "    try:\n",
        "        a, b = map(int, input().split())\n",
        "        if a>10000 or b>10000 :\n",
        "          break\n",
        "        elif (a==0 and b==0):\n",
        "          break\n",
        "        elif b%a==0:\n",
        "          result.append('factor')\n",
        "        elif a%b==0:\n",
        "          result.append(\"multiple\")\n",
        "        else:\n",
        "          result.append(\"neither\")\n",
        "    except:\n",
        "        break\n",
        "for i in result:\n",
        "  print(i)\n",
        "result=[]"
      ],
      "metadata": {
        "colab": {
          "base_uri": "https://localhost:8080/"
        },
        "id": "Sa9VxcJvXr6L",
        "outputId": "d23ae141-9182-4cb5-9d4a-55b7c8633084"
      },
      "execution_count": 38,
      "outputs": [
        {
          "output_type": "stream",
          "name": "stdout",
          "text": [
            "4 16\n",
            "32 4\n",
            "17 5\n",
            "0 0\n",
            "factor\n",
            "multiple\n",
            "neither\n"
          ]
        }
      ]
    },
    {
      "cell_type": "markdown",
      "source": [
        "## 심화문제"
      ],
      "metadata": {
        "id": "-zaJ-3evge8i"
      }
    },
    {
      "cell_type": "code",
      "source": [
        "list=[0]*10\n",
        "for i in range(3):\n",
        "  list.append((int(input())))\n",
        "a=list[0];b=list[1];c=list[2]\n",
        "k=str(a*b*c)\n",
        "l=list(k)\n",
        "print(l)\n",
        "#for i in range(1,len(k)):\n",
        "\n",
        "\n"
      ],
      "metadata": {
        "colab": {
          "base_uri": "https://localhost:8080/",
          "height": 303
        },
        "id": "klTD5fL8aY_u",
        "outputId": "8de06bf8-1d15-48a1-cf7a-ca83d5465481"
      },
      "execution_count": 59,
      "outputs": [
        {
          "name": "stdout",
          "output_type": "stream",
          "text": [
            "150\n",
            "266\n",
            "427\n"
          ]
        },
        {
          "output_type": "error",
          "ename": "TypeError",
          "evalue": "ignored",
          "traceback": [
            "\u001b[0;31m---------------------------------------------------------------------------\u001b[0m",
            "\u001b[0;31mTypeError\u001b[0m                                 Traceback (most recent call last)",
            "\u001b[0;32m<ipython-input-59-1d3ce2c530e0>\u001b[0m in \u001b[0;36m<module>\u001b[0;34m()\u001b[0m\n\u001b[1;32m      4\u001b[0m \u001b[0ma\u001b[0m\u001b[0;34m=\u001b[0m\u001b[0mlist\u001b[0m\u001b[0;34m[\u001b[0m\u001b[0;36m0\u001b[0m\u001b[0;34m]\u001b[0m\u001b[0;34m;\u001b[0m\u001b[0mb\u001b[0m\u001b[0;34m=\u001b[0m\u001b[0mlist\u001b[0m\u001b[0;34m[\u001b[0m\u001b[0;36m1\u001b[0m\u001b[0;34m]\u001b[0m\u001b[0;34m;\u001b[0m\u001b[0mc\u001b[0m\u001b[0;34m=\u001b[0m\u001b[0mlist\u001b[0m\u001b[0;34m[\u001b[0m\u001b[0;36m2\u001b[0m\u001b[0;34m]\u001b[0m\u001b[0;34m\u001b[0m\u001b[0;34m\u001b[0m\u001b[0m\n\u001b[1;32m      5\u001b[0m \u001b[0mk\u001b[0m\u001b[0;34m=\u001b[0m\u001b[0mstr\u001b[0m\u001b[0;34m(\u001b[0m\u001b[0ma\u001b[0m\u001b[0;34m*\u001b[0m\u001b[0mb\u001b[0m\u001b[0;34m*\u001b[0m\u001b[0mc\u001b[0m\u001b[0;34m)\u001b[0m\u001b[0;34m\u001b[0m\u001b[0;34m\u001b[0m\u001b[0m\n\u001b[0;32m----> 6\u001b[0;31m \u001b[0ml\u001b[0m\u001b[0;34m=\u001b[0m\u001b[0mlist\u001b[0m\u001b[0;34m(\u001b[0m\u001b[0mk\u001b[0m\u001b[0;34m)\u001b[0m\u001b[0;34m\u001b[0m\u001b[0;34m\u001b[0m\u001b[0m\n\u001b[0m\u001b[1;32m      7\u001b[0m \u001b[0mprint\u001b[0m\u001b[0;34m(\u001b[0m\u001b[0ml\u001b[0m\u001b[0;34m)\u001b[0m\u001b[0;34m\u001b[0m\u001b[0;34m\u001b[0m\u001b[0m\n\u001b[1;32m      8\u001b[0m \u001b[0;31m#for i in range(1,len(k)):\u001b[0m\u001b[0;34m\u001b[0m\u001b[0;34m\u001b[0m\u001b[0;34m\u001b[0m\u001b[0m\n",
            "\u001b[0;31mTypeError\u001b[0m: 'list' object is not callable"
          ]
        }
      ]
    },
    {
      "cell_type": "markdown",
      "source": [
        "## list, dict 복습문제"
      ],
      "metadata": {
        "id": "uJyDvk2_uF6k"
      }
    },
    {
      "cell_type": "code",
      "source": [
        "character = {\n",
        " 'name' : '기사',\n",
        " 'level' : 12,\n",
        " 'items':{\n",
        " 'sword' : '불꽃의 검',\n",
        " 'armor' : '풀플레이트'\n",
        " },\n",
        " 'skill' : ['베기', '강하게 베기', '아주 강하게 베기']\n",
        "}\n",
        "print(character['name'])\n",
        "for key in character:\n",
        "  for l in range(len(character[key])):\n",
        "    print(f\"{key}: {character[key][l]}\")"
      ],
      "metadata": {
        "colab": {
          "base_uri": "https://localhost:8080/",
          "height": 284
        },
        "id": "pnsUxu9muJyQ",
        "outputId": "ec757986-9d04-49a6-d11b-532182afad11"
      },
      "execution_count": 5,
      "outputs": [
        {
          "output_type": "stream",
          "name": "stdout",
          "text": [
            "기사\n",
            "name: 기\n",
            "name: 사\n"
          ]
        },
        {
          "output_type": "error",
          "ename": "TypeError",
          "evalue": "ignored",
          "traceback": [
            "\u001b[0;31m---------------------------------------------------------------------------\u001b[0m",
            "\u001b[0;31mTypeError\u001b[0m                                 Traceback (most recent call last)",
            "\u001b[0;32m<ipython-input-5-51f53af2fb95>\u001b[0m in \u001b[0;36m<module>\u001b[0;34m()\u001b[0m\n\u001b[1;32m     10\u001b[0m \u001b[0mprint\u001b[0m\u001b[0;34m(\u001b[0m\u001b[0mcharacter\u001b[0m\u001b[0;34m[\u001b[0m\u001b[0;34m'name'\u001b[0m\u001b[0;34m]\u001b[0m\u001b[0;34m)\u001b[0m\u001b[0;34m\u001b[0m\u001b[0;34m\u001b[0m\u001b[0m\n\u001b[1;32m     11\u001b[0m \u001b[0;32mfor\u001b[0m \u001b[0mkey\u001b[0m \u001b[0;32min\u001b[0m \u001b[0mcharacter\u001b[0m\u001b[0;34m:\u001b[0m\u001b[0;34m\u001b[0m\u001b[0;34m\u001b[0m\u001b[0m\n\u001b[0;32m---> 12\u001b[0;31m   \u001b[0;32mfor\u001b[0m \u001b[0ml\u001b[0m \u001b[0;32min\u001b[0m \u001b[0mrange\u001b[0m\u001b[0;34m(\u001b[0m\u001b[0mlen\u001b[0m\u001b[0;34m(\u001b[0m\u001b[0mcharacter\u001b[0m\u001b[0;34m[\u001b[0m\u001b[0mkey\u001b[0m\u001b[0;34m]\u001b[0m\u001b[0;34m)\u001b[0m\u001b[0;34m)\u001b[0m\u001b[0;34m:\u001b[0m\u001b[0;34m\u001b[0m\u001b[0;34m\u001b[0m\u001b[0m\n\u001b[0m\u001b[1;32m     13\u001b[0m     \u001b[0mprint\u001b[0m\u001b[0;34m(\u001b[0m\u001b[0;34mf\"{key}: {character[key][l]}\"\u001b[0m\u001b[0;34m)\u001b[0m\u001b[0;34m\u001b[0m\u001b[0;34m\u001b[0m\u001b[0m\n",
            "\u001b[0;31mTypeError\u001b[0m: object of type 'int' has no len()"
          ]
        }
      ]
    },
    {
      "cell_type": "markdown",
      "source": [
        "## Class"
      ],
      "metadata": {
        "id": "TEMysa9SEa03"
      }
    },
    {
      "cell_type": "code",
      "source": [
        "#문제1\n",
        "class Rectangle:\n",
        " count = 0\n",
        " sum_area = 0\n",
        " \n",
        " # 초기자(initializer)\n",
        " def __init__(self, width, height):\n",
        "   self.width = width\n",
        "   self.height = height\n",
        "   Rectangle.count += 1\n",
        " \n",
        " # 메서드\n",
        " def calcArea(self):\n",
        "   area = self.width * self.height\n",
        "   Rectangle.sum_area += area\n",
        "   return Rectangle.sum_area\n",
        "\n",
        "#문제2\n",
        "a=Rectangle.calcArea(Rectangle(5,5))\n",
        "print(a)\n",
        "#문제3넓이가 24인 직사각형을 인스턴스 변수로 만들고 \n",
        "#클래스의 인스턴스 개수를 출력하시오. (단, 각 변의 길이는 자연수이다.)\n",
        "r=Rectangle(2,12)\n",
        "r2=Rectangle(6,4)\n",
        "print(r.count)\n",
        "print(r2.count)\n",
        "\n",
        "\n"
      ],
      "metadata": {
        "colab": {
          "base_uri": "https://localhost:8080/"
        },
        "id": "vjAzBdESEbIJ",
        "outputId": "2cd0674b-4cea-4f0e-ad07-284efa9cb100"
      },
      "execution_count": 21,
      "outputs": [
        {
          "output_type": "stream",
          "name": "stdout",
          "text": [
            "25\n",
            "3\n",
            "3\n"
          ]
        }
      ]
    },
    {
      "cell_type": "markdown",
      "source": [
        "## 사칙연산 계산기"
      ],
      "metadata": {
        "id": "S7cclffJOXwo"
      }
    },
    {
      "cell_type": "code",
      "source": [
        "while True:\n",
        "  a, s, b = input(\"format: number operation number\")"
      ],
      "metadata": {
        "colab": {
          "base_uri": "https://localhost:8080/",
          "height": 211
        },
        "id": "nnWKP_FaOYCO",
        "outputId": "f85ea3cf-7425-48e7-fdfc-c5ba4f5d23f2"
      },
      "execution_count": 23,
      "outputs": [
        {
          "name": "stdout",
          "output_type": "stream",
          "text": [
            "format: number operation number3 * 5\n"
          ]
        },
        {
          "output_type": "error",
          "ename": "ValueError",
          "evalue": "ignored",
          "traceback": [
            "\u001b[0;31m---------------------------------------------------------------------------\u001b[0m",
            "\u001b[0;31mValueError\u001b[0m                                Traceback (most recent call last)",
            "\u001b[0;32m<ipython-input-23-b120b91fa71f>\u001b[0m in \u001b[0;36m<module>\u001b[0;34m()\u001b[0m\n\u001b[1;32m      1\u001b[0m \u001b[0;32mwhile\u001b[0m \u001b[0;32mTrue\u001b[0m\u001b[0;34m:\u001b[0m\u001b[0;34m\u001b[0m\u001b[0;34m\u001b[0m\u001b[0m\n\u001b[0;32m----> 2\u001b[0;31m   \u001b[0ma\u001b[0m\u001b[0;34m,\u001b[0m \u001b[0ms\u001b[0m\u001b[0;34m,\u001b[0m \u001b[0mb\u001b[0m \u001b[0;34m=\u001b[0m \u001b[0minput\u001b[0m\u001b[0;34m(\u001b[0m\u001b[0;34m\"format: number operation number\"\u001b[0m\u001b[0;34m)\u001b[0m\u001b[0;34m\u001b[0m\u001b[0;34m\u001b[0m\u001b[0m\n\u001b[0m",
            "\u001b[0;31mValueError\u001b[0m: too many values to unpack (expected 3)"
          ]
        }
      ]
    }
  ]
}