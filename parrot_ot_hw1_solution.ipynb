{
  "nbformat": 4,
  "nbformat_minor": 0,
  "metadata": {
    "colab": {
      "name": "parrot_ot_hw1.ipynb",
      "provenance": [],
      "toc_visible": true,
      "include_colab_link": true
    },
    "kernelspec": {
      "name": "python3",
      "display_name": "Python 3"
    },
    "language_info": {
      "name": "python"
    }
  },
  "cells": [
    {
      "cell_type": "markdown",
      "metadata": {
        "id": "view-in-github",
        "colab_type": "text"
      },
      "source": [
        "<a href=\"https://colab.research.google.com/github/polly-oh/parrot/blob/main/parrot_ot_hw1_solution.ipynb\" target=\"_parent\"><img src=\"https://colab.research.google.com/assets/colab-badge.svg\" alt=\"Open In Colab\"/></a>"
      ]
    },
    {
      "cell_type": "code",
      "execution_count": null,
      "metadata": {
        "colab": {
          "base_uri": "https://localhost:8080/"
        },
        "id": "EYlZ69Oia-aQ",
        "outputId": "137c49a5-1746-49d5-a1da-43642618b828"
      },
      "outputs": [
        {
          "output_type": "stream",
          "name": "stdout",
          "text": [
            "2 2 2\n",
            "12000\n"
          ]
        }
      ],
      "source": [
        "n1, n2, n3 =map(int, input().split())\n",
        "\n",
        "if n1==n2==n3:\n",
        "  print(10000+n1*1000)\n",
        "elif n1==n2:\n",
        "  print(1000+ n1*100)\n",
        "elif n1==n3:\n",
        "  print(1000+ n1*100)\n",
        "elif n2==n3:\n",
        "  print(1000+n2*100)\n",
        "else:\n",
        "  print(max(n1,n2,n3)*100)"
      ]
    },
    {
      "cell_type": "markdown",
      "source": [
        "뭐라도 코멘트를 달아보려고 생각해봤는데  \n",
        "너무 완벽해서 드릴 말씀이 없네요...ㅎㅎㅎㅎㅎㅎ"
      ],
      "metadata": {
        "id": "Bwqx0Q-3LFlT"
      }
    },
    {
      "cell_type": "code",
      "source": [
        "result = []\n",
        "\n",
        "while True:\n",
        "    try:\n",
        "        a, b = map(int, input().split())\n",
        "        if a>10000 or b>10000 :\n",
        "          break\n",
        "        elif (a==0 and b==0):\n",
        "          break\n",
        "        elif b%a==0:\n",
        "          result.append('factor')\n",
        "        elif a%b==0:\n",
        "          result.append(\"multiple\")\n",
        "        else:\n",
        "          result.append(\"neither\")\n",
        "    except:\n",
        "        break\n",
        "for i in result:\n",
        "  print(i)"
      ],
      "metadata": {
        "colab": {
          "base_uri": "https://localhost:8080/"
        },
        "id": "UJiBZnR7fLe9",
        "outputId": "ac8d14a9-49f5-45b7-c521-869c647e49c0"
      },
      "execution_count": null,
      "outputs": [
        {
          "output_type": "stream",
          "name": "stdout",
          "text": [
            "8 16\n",
            "32 4\n",
            "17 5\n",
            "0 0\n",
            "factor\n",
            "multiple\n",
            "neither\n"
          ]
        }
      ]
    },
    {
      "cell_type": "markdown",
      "source": [
        "- break를 위한 조건문이 2개 있는데 하나로 합치면 더 효율적인 코드가 될 것 같습니다.\n",
        "- 다른 조건들은 아주 완벽하게 잘 나누셨네요!\n",
        "\n"
      ],
      "metadata": {
        "id": "_tgn9Gg-LzXF"
      }
    },
    {
      "cell_type": "code",
      "source": [
        "list=[]\n",
        "for i in range(3):\n",
        "  list.append((int(input())))\n",
        "a=list[0];b=list[1];c=list[2]\n",
        "k=a*b*c\n",
        "a = []\n",
        "for i in str(k):\n",
        "    a.append(i)\n",
        "print(a.count('0'))\n",
        "print(a.count('1'))\n",
        "print(a.count('2'))\n",
        "print(a.count('3'))\n",
        "print(a.count('4'))\n",
        "print(a.count('5'))\n",
        "print(a.count('6'))\n",
        "print(a.count('7'))\n",
        "print(a.count('8'))\n",
        "print(a.count('9'))"
      ],
      "metadata": {
        "id": "BQYnqKjcmWp8"
      },
      "execution_count": null,
      "outputs": []
    },
    {
      "cell_type": "markdown",
      "source": [
        "- 숫자 3개를 받아서 곱하는 것보단 받으면서 동시에 곱하면 변수의 개수를 줄일 수 있답니다.   \n",
        "파이썬은 모든 변수를 객체로 정의했기 때문에 변수 하나가 사용하는 메모리의 크기가 꽤 커요.   \n",
        "변수 사용을 최대한 줄이고 안쓰는 변수는 그때그때 지워주면 메모리 측면에서 더 효율적인 프로그램을 작성할 수 있습니다.\n",
        "- string 변수는 list로 타입캐스팅하면 바로 한 문자씩 나눠진 리스트가 되기 때문에 for문을 사용하지 않으셔도 됩니다.   \n",
        "위의 코드는 list(str(k))로 바꿔 쓸 수 있습니다.\n",
        "- 아무래도 문자를 세는 것이라 반복문을 쓰지 않으신 것 같은데 숫자로 for문을 돌리고 문자로 타입캐스팅해서 세면    \n",
        "반복문을 사용해서 더 쉽게 하실 수 있습니다.   \n",
        "- 코드를 좀 더 간단하게 바꿔봤으니 아래 코드를 참고해주세요!\n"
      ],
      "metadata": {
        "id": "kZpnCr37OVt6"
      }
    },
    {
      "cell_type": "code",
      "source": [
        "n = 1\n",
        "\n",
        "for i in range(3):\n",
        "  n *= int(input())\n",
        "\n",
        "n = str(n)\n",
        "for i in range(10):\n",
        "  print(n.count(str(i)))"
      ],
      "metadata": {
        "colab": {
          "base_uri": "https://localhost:8080/"
        },
        "id": "rNLa6-dgLj5X",
        "outputId": "76acee7a-6e83-4da5-beaa-651653cb0426"
      },
      "execution_count": null,
      "outputs": [
        {
          "output_type": "stream",
          "name": "stdout",
          "text": [
            "150\n",
            "266\n",
            "427\n",
            "3\n",
            "1\n",
            "0\n",
            "2\n",
            "0\n",
            "0\n",
            "0\n",
            "2\n",
            "0\n",
            "0\n"
          ]
        }
      ]
    },
    {
      "cell_type": "code",
      "source": [
        "character = {\n",
        " 'name' : '기사',\n",
        " 'level' : 12,\n",
        " 'items':{\n",
        " 'sword' : '불꽃의 검',\n",
        " 'armor' : '풀플레이트'\n",
        " },\n",
        " 'skill' : ['베기', '강하게 베기', '아주 강하게 베기']\n",
        "}\n",
        "print(character['name'])\n",
        "for key in character:\n",
        "  print(f\"{key}: {character[key]}\")\n"
      ],
      "metadata": {
        "colab": {
          "base_uri": "https://localhost:8080/"
        },
        "id": "Glpv18RFCIz9",
        "outputId": "c98e5655-ae50-45c9-e995-adf26141d754"
      },
      "execution_count": null,
      "outputs": [
        {
          "output_type": "stream",
          "name": "stdout",
          "text": [
            "기사\n",
            "name: 기사\n",
            "level: 12\n",
            "items: {'sword': '불꽃의 검', 'armor': '풀플레이트'}\n",
            "skill: ['베기', '강하게 베기', '아주 강하게 베기']\n"
          ]
        }
      ]
    },
    {
      "cell_type": "markdown",
      "source": [
        "- key에 대해 value를 프린트해야 하는 것은 맞지만     \n",
        "value가 dictionary나 list일 때에는 하나씩 프린트하기 위해서 따로 처리를 해줘야 하겠죠?   \n",
        "- value의 타입이 무엇인지 검사해서 각 타입마다 어떤 식으로 프린트할지 조건 처리를 해주면 되겠네요.   \n",
        "- 어렵지 않으니 직접 해보시면 좋을 것 같네요!   \n",
        "자료형을 알기 위해서는 type() 함수를 쓰면 되고,    \n",
        "딕셔너리의 key와 value를 동시에 가져오기 위해서는 items() 함수를 쓰면 좀 더 편하게 하실 수 있답니다."
      ],
      "metadata": {
        "id": "hAFBN9DJQw9x"
      }
    },
    {
      "cell_type": "code",
      "source": [
        "#문제1\n",
        "class Rectangle:\n",
        " count = 0\n",
        " sum_area = 0\n",
        " \n",
        " # 초기자(initializer)\n",
        " def __init__(self, width, height):\n",
        "   self.width = width\n",
        "   self.height = height\n",
        "   Rectangle.count += 1\n",
        " \n",
        " # 메서드\n",
        " def calcArea(self):\n",
        "   area = self.width * self.height\n",
        "   Rectangle.sum_area += area\n",
        "   return area # 현재 변수의 넓이를 계산하는 함수이므로 area를 반환해야 합니다!"
      ],
      "metadata": {
        "id": "IQ68G20ECLzd"
      },
      "execution_count": null,
      "outputs": []
    },
    {
      "cell_type": "markdown",
      "source": [
        "- 많은 분들이 calcArea의 반환값을 틀리셨더라구요.   \n",
        "이 함수는 인스턴스 변수의 크기를 계산해서 반환하는 함수이기 때문에 area를 반환해야 합니다.\n",
        "- 간단하게 말씀드리자면, 클래스는 위의 코드처럼 어떤 변수인지 정의하는 것을 말하고,   \n",
        "클래스의 인스턴스는 정의된 코드로 프로그램에서 선언한 변수를 말하는 것이랍니다.   \n",
        "여기서는 class Rectangle이 클래스고, 이 클래스로 만들어진 변수 a가 인스턴스인 거죠!   \n",
        "- 이에 대해서는 기초파이썬 세션에서 ot문제 해설 시간을 따로 가질 예정입니다!"
      ],
      "metadata": {
        "id": "NQwUFOKqGHOH"
      }
    },
    {
      "cell_type": "code",
      "source": [
        "#문제2\n",
        "a=Rectangle.calcArea(Rectangle(5,5))\n",
        "print(a)"
      ],
      "metadata": {
        "colab": {
          "base_uri": "https://localhost:8080/"
        },
        "id": "paP_GA2aCNwv",
        "outputId": "406560f6-fdc1-42bd-cbb1-15239664a29b"
      },
      "execution_count": null,
      "outputs": [
        {
          "output_type": "stream",
          "name": "stdout",
          "text": [
            "25\n"
          ]
        }
      ]
    },
    {
      "cell_type": "markdown",
      "source": [
        "- Rectangle 클래스의 변수인 a를 만들고 a에서 calcArea 함수를 부르면 되겠죠?\n",
        "- 물론 작성해주신 답안도 똑같이 프린트되기 때문에 틀렸다고는 할 수 없지만,   \n",
        "클래스를 사용하는 목적을 생각해보면 클래스 변수를 만들고 변수 내부의 함수를 부르는 것이 더 합리적이라고 할 수 있겠네요.\n",
        "- 아래 코드가 답안입니다!"
      ],
      "metadata": {
        "id": "19QTjVK5GVTh"
      }
    },
    {
      "cell_type": "code",
      "source": [
        "a = Rectangle(5, 5)\n",
        "print(a.calcArea())"
      ],
      "metadata": {
        "colab": {
          "base_uri": "https://localhost:8080/"
        },
        "id": "7lic0D2sGztS",
        "outputId": "1d261189-a716-4af5-aeba-818473e785cb"
      },
      "execution_count": null,
      "outputs": [
        {
          "output_type": "stream",
          "name": "stdout",
          "text": [
            "25\n"
          ]
        }
      ]
    },
    {
      "cell_type": "code",
      "source": [
        "#문제3넓이가 24인 직사각형을 인스턴스 변수로 만들고 \n",
        "#클래스의 인스턴스 개수를 출력하시오. (단, 각 변의 길이는 자연수이다.)\n",
        "r=Rectangle(2,12)\n",
        "r2=Rectangle(6,4)\n",
        "print(r.count)\n",
        "print(r2.count)"
      ],
      "metadata": {
        "colab": {
          "base_uri": "https://localhost:8080/"
        },
        "id": "Y0oEqYzDCQHb",
        "outputId": "af6c40a7-de36-497b-bd0d-0efe96bed3c1"
      },
      "execution_count": null,
      "outputs": [
        {
          "output_type": "stream",
          "name": "stdout",
          "text": [
            "3\n",
            "3\n"
          ]
        }
      ]
    },
    {
      "cell_type": "markdown",
      "source": [
        "- 이 문제는 정답에 근접하셨네요!   \n",
        "- 코드를 돌려보셨으니 아시겠지만, 프린트된 두 값은 항상 같습니다.   \n",
        "왜냐하면 둘 다 같은 변수를 말하는 것이기 때문이에요.   \n",
        "count가 \\_\\_init__함수가 아니라 class 바로 밑에 선언된 것을 보셨을 텐데요.   \n",
        "이를 통해 count가 모든 인스턴스들이 공유하는 클래스 변수라는 것을 구별할 수 있답니다.   \n",
        "r의 count와 r2의 count와 a의 count는 모두 똑같은 class Rectangle의 count를 가리켜요.\n",
        "- 인스턴스 변수는 각각의 인스턴스들이 따로 가지고 있는 변수이고, 클래스 변수는 해당 클래스의 모든 변수들이 공유하는 변수를 말합니다.   \n",
        "이 코드에서 선언한 모든 사각형은 각각 높이와 너비 값이 다르지만, 변수의 개수를 나타내는 count는 모두 같은 값을 공유하고 있습니다.   \n",
        "- 클래스 변수를 접근할 때에는 보통 클래스의 이름을 사용해요.   \n",
        "변수명을 사용해도 문법상 문제는 없지만, 클래스 변수라는 것을 구별하기 위해 보통 그렇게 하는 편입니다.   \n",
        "Rectangle.count라고 하시면 더 자연스러운 코드가 되겠네요!"
      ],
      "metadata": {
        "id": "4OOc-U9jIZ5P"
      }
    },
    {
      "cell_type": "code",
      "source": [
        "while True:\n",
        "  a, s, b =input(\"format-> number operation number :\").split()\n",
        "  a=float(a);b=float(b);\n",
        "  if s=='/':\n",
        "    if b==float(0):\n",
        "      print('Cannot divide by 0')\n",
        "    else:\n",
        "      res=a/b\n",
        "      print('{} / {} = {}'.format(a,b,res))\n",
        "  elif s=='*':\n",
        "    res=a*b\n",
        "    print('{} * {} = {}'.format(a,b,res))\n",
        "  elif s=='+':\n",
        "    res=a+b\n",
        "    print('{} + {} = {}'.format(a,b,res))\n",
        "  elif s=='-':\n",
        "    res=a-b\n",
        "    print('{} - {} = {}'.format(a,b,res))\n",
        "  else:\n",
        "    break\n",
        "\n",
        "global_number = 0\n",
        "class calculator:\n",
        "    def plus(self, num):\n",
        "        global global_number\n",
        "        global_number = global_number + num\n",
        "    def minus(self, num):\n",
        "        global global_number\n",
        "        global_number = global_number - num\n",
        "    def mul(self, num):\n",
        "        global global_number\n",
        "        global_number = global_number * num\n",
        "    def div(self, num):\n",
        "        global global_number\n",
        "        global_number = global_number / num\n",
        "    def initial(self):\n",
        "        global global_number\n",
        "        global_number = 0\n",
        "\n",
        "\n",
        "cal = calculator()\n",
        "cal.plus(3)\n",
        "print(global_number)\n",
        "cal.mul(-8)\n",
        "print(global_number)\n",
        "cal.minus(4)\n",
        "print(global_number)\n",
        "cal.div(2)\n",
        "print(global_number)\n",
        "cal.initial()\n",
        "print(global_number)"
      ],
      "metadata": {
        "id": "EIe1MRYQCR0t"
      },
      "execution_count": null,
      "outputs": []
    },
    {
      "cell_type": "markdown",
      "source": [
        "- 위의 while 루프를 도는 코드는 클래스와는 상관이 없는 것 같아서 채점에서 뺐습니다.\n",
        "- global_number는 클래스 밖에서도 사용하기 위해서 전역 변수로 쓰신 건가요?   \n",
        "제 생각에는 클래스 내부의 변수로 선언하고 외부에서 접근하도록 하는 것이 더 자연스러울 것 같아요.   \n",
        "클래스의 변수와 함수를 선언할 때에는 서로 연관성이 있는 것들을 하나의 클래스에 묶는 것이 중요합니다.   \n",
        "그러기 위해서 클래스를 사용하는 것이거든요.   \n",
        "이 부분에 대해서는 컴퓨터공학과 전공 지식이라 아실 필요까지는 없겠지만, 세션 때 간단하게 설명하고 넘어갈 예정입니다.\n",
        "- 변수가 2개인 계산기였으니 함수가 두 개의 변수를 받도록 하는 것이 더 직관적이겠네요!"
      ],
      "metadata": {
        "id": "Sfodi0KlJ8dY"
      }
    }
  ]
}